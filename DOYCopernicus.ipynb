{
 "cells": [
  {
   "cell_type": "markdown",
   "id": "00eab949",
   "metadata": {},
   "source": [
    "### DOY Copernicus\n",
    "\n",
    "Script for change the value for the pixel to DOY. Applicable only for VPP image"
   ]
  },
  {
   "cell_type": "code",
   "execution_count": 1,
   "id": "481729fb",
   "metadata": {},
   "outputs": [],
   "source": [
    "import numpy as np\n",
    "import matplotlib.pyplot as plt\n",
    "import pandas as pd\n",
    "import geopandas as gpd\n",
    "\n",
    "import shapely.wkt\n",
    "import shapely.geometry\n",
    "from shapely import wkt\n",
    "import rasterio as rio\n",
    "import collections\n",
    "collections.Callable = collections.abc.Callable\n",
    "\n",
    "import warnings\n",
    "warnings.filterwarnings('ignore')"
   ]
  },
  {
   "cell_type": "code",
   "execution_count": 3,
   "id": "dc1765eb",
   "metadata": {},
   "outputs": [
    {
     "name": "stdout",
     "output_type": "stream",
     "text": [
      "{'driver': 'GTiff', 'dtype': 'int16', 'nodata': 0.0, 'width': 31407, 'height': 34547, 'count': 1, 'crs': CRS.from_epsg(4326), 'transform': Affine(0.00015561216773330783, 0.0, 10.262301292,\n",
      "       0.0, -8.51689131617797e-05, 54.221367684)}\n",
      "(1, 34547, 31407)\n"
     ]
    }
   ],
   "source": [
    "# year=2020\n",
    "tipo='MAX'\n",
    "\n",
    "y1=17\n",
    "# y2=20\n",
    "\n",
    "fn='D:/Documents/Copernicus/VPP_%(y)s_%(tipo)s_wwSINDOY.tif'%{'y':y1,'tipo':tipo}\n",
    "with rio.open(fn, 'r') as file:\n",
    "    data = file.read()\n",
    "    data_metadata = file.meta\n",
    "    file.close\n",
    "\n",
    "print(data_metadata)\n",
    "print(data.shape)"
   ]
  },
  {
   "cell_type": "code",
   "execution_count": 4,
   "id": "cf28b791",
   "metadata": {},
   "outputs": [],
   "source": [
    "imagen=data[0,:,:]\n",
    "# imagen.shape"
   ]
  },
  {
   "cell_type": "code",
   "execution_count": 5,
   "id": "36358507",
   "metadata": {},
   "outputs": [
    {
     "name": "stdout",
     "output_type": "stream",
     "text": [
      "0\n",
      "17365\n"
     ]
    }
   ],
   "source": [
    "smallest = imagen.min()\n",
    "print(smallest)\n",
    "largest = imagen.max()\n",
    "print(largest)"
   ]
  },
  {
   "cell_type": "code",
   "execution_count": 6,
   "id": "2c7c374e",
   "metadata": {},
   "outputs": [],
   "source": [
    "data_mask = np.ma.masked_values(imagen, 0)"
   ]
  },
  {
   "cell_type": "code",
   "execution_count": 8,
   "id": "a5b2dbc4",
   "metadata": {},
   "outputs": [
    {
     "name": "stdout",
     "output_type": "stream",
     "text": [
      "Print count of True elements in array1:  17283811\n"
     ]
    }
   ],
   "source": [
    "count1 = np.count_nonzero(~data_mask.mask)\n",
    "print('Print count of True elements in array1: ', count1)"
   ]
  },
  {
   "cell_type": "code",
   "execution_count": 9,
   "id": "e40aea91",
   "metadata": {},
   "outputs": [
    {
     "name": "stdout",
     "output_type": "stream",
     "text": [
      "17001\n",
      "17365\n"
     ]
    }
   ],
   "source": [
    "smallest = data_mask.min()\n",
    "print(smallest)\n",
    "largest = data_mask.max()\n",
    "print(largest)"
   ]
  },
  {
   "cell_type": "markdown",
   "id": "388db234",
   "metadata": {},
   "source": [
    "### cambio de valores de pixeles"
   ]
  },
  {
   "cell_type": "code",
   "execution_count": 11,
   "id": "226844ae",
   "metadata": {},
   "outputs": [
    {
     "name": "stdout",
     "output_type": "stream",
     "text": [
      "1085017629\n"
     ]
    }
   ],
   "source": [
    "data_prueba = imagen.reshape(-1)\n",
    "# data_prueba_mask = data_mask.mask.reshape(-1)\n",
    "\n",
    "print(data_prueba.shape[0])"
   ]
  },
  {
   "cell_type": "code",
   "execution_count": 15,
   "id": "88adf530",
   "metadata": {},
   "outputs": [
    {
     "name": "stdout",
     "output_type": "stream",
     "text": [
      "CPU times: total: 52min 53s\n",
      "Wall time: 53min 1s\n"
     ]
    }
   ],
   "source": [
    "%%time\n",
    "\n",
    "valores_y1=[]\n",
    "# valores_y2=[]\n",
    "\n",
    "# bloque=int(data_prueba.shape[0]/c)\n",
    "\n",
    "# for k in range(c-1):bloque*k,bloque*(k+1)\n",
    "\n",
    "for i in range(data_prueba.shape[0]):    \n",
    "#     if data_prueba[i] != 0:\n",
    "    valor=int(data_prueba[i]/1000)\n",
    "    if valor==y1:\n",
    "        valores_y1.append(data_prueba[i]-(valor*1000))\n",
    "#             valores_y2.append(0)\n",
    "#         if valor==y2:\n",
    "#             valores_y2.append(data_prueba[i]-(valor*1000))\n",
    "#             valores_y1.append(0)\n",
    "    else:\n",
    "        valores_y1.append(0)\n",
    "#         valores_y2.append(0)"
   ]
  },
  {
   "cell_type": "code",
   "execution_count": 16,
   "id": "9610a685",
   "metadata": {},
   "outputs": [],
   "source": [
    "datafinal_y1 = np.reshape(valores_y1, (imagen.shape[0], imagen.shape[1]))\n",
    "# datafinal_y2 = np.reshape(valores_y2, (imagen.shape[0], imagen.shape[1]))"
   ]
  },
  {
   "cell_type": "code",
   "execution_count": 17,
   "id": "38a3b25c",
   "metadata": {},
   "outputs": [
    {
     "name": "stdout",
     "output_type": "stream",
     "text": [
      "0\n",
      "365\n"
     ]
    }
   ],
   "source": [
    "smallest = np.nanmin(datafinal_y1)\n",
    "print(smallest)\n",
    "largest = np.nanmax(datafinal_y1)\n",
    "print(largest)"
   ]
  },
  {
   "cell_type": "code",
   "execution_count": 22,
   "id": "6e6583ec",
   "metadata": {},
   "outputs": [],
   "source": [
    "valores_y1=0\n",
    "valores_y2=0"
   ]
  },
  {
   "cell_type": "code",
   "execution_count": 23,
   "id": "ce482b36",
   "metadata": {},
   "outputs": [],
   "source": [
    "from rasterio.crs import CRS\n",
    "\n",
    "# for y in [y1,y2]:\n",
    "output=r'D:\\Documents\\Copernicus\\clip_poligono_DOY_wheat\\VPP_%(y)s_%(tipo)s_ww.tif'%{'y':y1,'tipo':tipo}\n",
    "#     if y==y1:\n",
    "datafinal=datafinal_y1\n",
    "#     if y==y2:\n",
    "#         datafinal=datafinal_y2\n",
    "\n",
    "with rio.open(output,\n",
    "              mode=\"w\",driver=\"GTiff\",\n",
    "              height=datafinal.shape[0],\n",
    "              width=datafinal.shape[1],\n",
    "              count=1,\n",
    "              dtype=datafinal.dtype,\n",
    "              crs=CRS.from_epsg(4326),\n",
    "              transform=data_metadata['transform'],\n",
    ") as new_dataset:\n",
    "        new_dataset.write(datafinal, 1)"
   ]
  }
 ],
 "metadata": {
  "kernelspec": {
   "display_name": "Python 3 (ipykernel)",
   "language": "python",
   "name": "python3"
  },
  "language_info": {
   "codemirror_mode": {
    "name": "ipython",
    "version": 3
   },
   "file_extension": ".py",
   "mimetype": "text/x-python",
   "name": "python",
   "nbconvert_exporter": "python",
   "pygments_lexer": "ipython3",
   "version": "3.9.7"
  }
 },
 "nbformat": 4,
 "nbformat_minor": 5
}
