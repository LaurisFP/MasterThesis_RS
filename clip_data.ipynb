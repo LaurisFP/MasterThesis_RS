{
 "cells": [
  {
   "cell_type": "markdown",
   "id": "79dbad63",
   "metadata": {},
   "source": [
    "## Script to clip images"
   ]
  },
  {
   "cell_type": "markdown",
   "id": "f555de04",
   "metadata": {},
   "source": [
    "### Clip VPP images"
   ]
  },
  {
   "cell_type": "code",
   "execution_count": null,
   "id": "d2db6f07",
   "metadata": {},
   "outputs": [],
   "source": [
    "import geopandas as gpd\n",
    "import rasterio\n",
    "from rasterio import mask\n",
    "from rasterio.plot import show\n",
    "\n",
    "# tipo='SOS'\n",
    "# o='SG'\n",
    "y=17\n"
   ]
  },
  {
   "cell_type": "code",
   "execution_count": null,
   "id": "66fb1c85",
   "metadata": {},
   "outputs": [],
   "source": [
    "# rast_path = r'D:\\Documents\\Copernicus\\merge_2017_4326\\VPP_20%(y)s_%(tipo)sD4326.tif'%{'y':y,'tipo':tipo}\n",
    "rast_path = r'D:\\Documents\\resultados_thesis\\imagenes_para_mapas\\MisDatos\\LSP_SG_MAXVH_20%(y)s.tif'%{'y':y}\n",
    "\n",
    "\n",
    "mask_path = 'C:/Users/Flores/Documents/PythonScripts/codigos/Thesis/info_vectorial/Laura_data/IACS_BB_20%(y)s_classified_mais_4326.shp'%{'y':y}\n",
    "# mask_path = 'C:/Users/Flores/Documents/PythonScripts/codigos/Thesis/info_vectorial/Laura_data/IACS_BB_20%(y)s_classified_ww_4326.shp'%{'y':y}\n",
    "\n",
    "geo = gpd.read_file(mask_path)\n",
    "print(geo.crs)\n",
    "\n",
    "with rasterio.open(rast_path) as src:\n",
    "    print(src.crs)\n",
    "    out_image, out_transform = rasterio.mask.mask(src, geo.geometry, filled = True)\n",
    "\n",
    "# show(out_image)"
   ]
  },
  {
   "cell_type": "code",
   "execution_count": null,
   "id": "8dbad672",
   "metadata": {},
   "outputs": [],
   "source": [
    "src.meta.copy()"
   ]
  },
  {
   "cell_type": "code",
   "execution_count": null,
   "id": "6f1fee76",
   "metadata": {},
   "outputs": [],
   "source": [
    "out_meta = src.meta.copy()\n",
    "# out_meta.update({\"driver\": \"GTiff\",\n",
    "#                  \"height\": out_image.shape[1],\n",
    "#                  \"width\": out_image.shape[2],\n",
    "#                  \"transform\": out_transform,\n",
    "#                  \"crs\": \"+proj=longlat init=epsg:4326 +ellps=WGS84 +units=m +no_defs \"})"
   ]
  },
  {
   "cell_type": "code",
   "execution_count": null,
   "id": "104dd365",
   "metadata": {},
   "outputs": [],
   "source": [
    "out_fp = 'D:/Documents/Copernicus/clip_2017/VPP_20%(y)s_%(tipo)sD4326_clip.tif'%{'y':y,'tipo':tipo}\n",
    "# out_fp = 'D:/Documents/resultados_thesis/thesis_2018_09_01/LSP_CLIP_20%(y)s_%(tipo)s_mais.tif'%{'y':y,'tipo':tipo}\n",
    "with rasterio.open(out_fp, \"w\", **out_meta) as dest:\n",
    "    dest.write(out_image)"
   ]
  },
  {
   "cell_type": "markdown",
   "id": "e6a61898",
   "metadata": {},
   "source": [
    "## Clip all togheter\n",
    "\n",
    "Clip images using polygons of mais (mm) and winter wheat(ww). Change mask route"
   ]
  },
  {
   "cell_type": "code",
   "execution_count": null,
   "id": "6dffb6f9",
   "metadata": {},
   "outputs": [],
   "source": [
    "import geopandas as gpd\n",
    "import rasterio\n",
    "from rasterio import mask\n",
    "from rasterio.plot import show\n",
    "\n",
    "# tipo=['MAX']#,,'Shooting'\n",
    "\n",
    "year=[17]#,18,19,20]#\n",
    "\n",
    "\n",
    "for y in year:\n",
    "    rast_path = 'F:/Images_S1andCopernicus_Brandenburg/Sentinel1Data_Brandenburg/S1_ClipBrandenburg_original/LSP_SG_minVV_all_2017_allrange.tif'#%{'y':y}\n",
    "    mask_path = 'C:/Users/Usuario/Documents/codigos/Thesis/Thesis/info_vectorial/Laura_data/IACS_BB_20%(y)s_classified_ww_4326.shp'%{'y':y}\n",
    "\n",
    "    geo = gpd.read_file(mask_path)\n",
    "    print(geo.crs)\n",
    "\n",
    "    with rasterio.open(rast_path) as src:\n",
    "    #     print(src.crs)\n",
    "        out_image, out_transform = rasterio.mask.mask(src, geo.geometry, filled = True)\n",
    "\n",
    "    src.meta.copy()\n",
    "    out_meta = src.meta.copy()\n",
    "\n",
    "    out_fp = 'F:/Images_S1andCopernicus_Brandenburg/Sentinel1Data_Brandenburg/S1_ClipWheatPolygons/VVmin/LSP_SG_minVV_alles_20%(y)s_ww.tif'%{'y':y}\n",
    "    with rasterio.open(out_fp, \"w\", **out_meta) as dest:\n",
    "        dest.write(out_image)"
   ]
  },
  {
   "cell_type": "code",
   "execution_count": null,
   "id": "8a4d4ac4",
   "metadata": {},
   "outputs": [],
   "source": []
  }
 ],
 "metadata": {
  "kernelspec": {
   "display_name": "Python 3 (ipykernel)",
   "language": "python",
   "name": "python3"
  },
  "language_info": {
   "codemirror_mode": {
    "name": "ipython",
    "version": 3
   },
   "file_extension": ".py",
   "mimetype": "text/x-python",
   "name": "python",
   "nbconvert_exporter": "python",
   "pygments_lexer": "ipython3",
   "version": "3.9.7"
  }
 },
 "nbformat": 4,
 "nbformat_minor": 5
}
